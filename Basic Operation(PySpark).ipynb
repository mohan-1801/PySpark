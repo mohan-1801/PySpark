{
 "cells": [
  {
   "cell_type": "code",
   "execution_count": 0,
   "metadata": {
    "application/vnd.databricks.v1+cell": {
     "cellMetadata": {
      "byteLimit": 2048000,
      "rowLimit": 10000
     },
     "inputWidgets": {},
     "nuid": "df6482ab-d780-42c5-9ba1-83f9da1b7149",
     "showTitle": false,
     "tableResultSettingsMap": {},
     "title": ""
    }
   },
   "outputs": [
    {
     "output_type": "stream",
     "name": "stdout",
     "output_type": "stream",
     "text": [
      "+---+-------+-----------+------+\n| ID|   Name| Department|Salary|\n+---+-------+-----------+------+\n|  1|  Alice|Engineering| 65000|\n|  2|    Bob|  Marketing| 58000|\n|  3|Charlie|      Sales| 52000|\n|  4|  David|Engineering| 72000|\n|  5|    Eve|      Sales| 54000|\n+---+-------+-----------+------+\n\nroot\n |-- ID: long (nullable = true)\n |-- Name: string (nullable = true)\n |-- Department: string (nullable = true)\n |-- Salary: long (nullable = true)\n\n+---+-----+-----------+------+\n| ID| Name| Department|Salary|\n+---+-----+-----------+------+\n|  1|Alice|Engineering| 65000|\n|  4|David|Engineering| 72000|\n+---+-----+-----------+------+\n\n+-----------+-----+\n| Department|count|\n+-----------+-----+\n|Engineering|    2|\n|  Marketing|    1|\n|      Sales|    2|\n+-----------+-----+\n\n+-----------+-----------+\n| Department|avg(Salary)|\n+-----------+-----------+\n|Engineering|    68500.0|\n|  Marketing|    58000.0|\n|      Sales|    53000.0|\n+-----------+-----------+\n\n"
     ]
    }
   ],
   "source": [
    "from pyspark.sql import SparkSession \n",
    " \n",
    "spark = SparkSession.builder.appName(\"StudentAssignment\").getOrCreate() \n",
    " \n",
    "data = [ \n",
    "    (1, \"Alice\", \"Engineering\", 65000), \n",
    "    (2, \"Bob\", \"Marketing\", 58000), \n",
    "    (3, \"Charlie\", \"Sales\", 52000), \n",
    "    (4, \"David\", \"Engineering\", 72000), \n",
    "    (5, \"Eve\", \"Sales\", 54000) \n",
    "] \n",
    " \n",
    "schema = [\"ID\", \"Name\", \"Department\", \"Salary\"]\n",
    "df = spark.createDataFrame(data, schema=schema)\n",
    "df.show() \n",
    " \n",
    "#Show schema \n",
    "df.printSchema() \n",
    " \n",
    "# Filter: Salary > 60000 \n",
    "df.filter(df[\"Salary\"] > 60000).show() \n",
    " \n",
    "# Group by Department \n",
    "df.groupBy(\"Department\").count().show() \n",
    " \n",
    "# Average Salary by Department \n",
    "df.groupBy(\"Department\").avg(\"Salary\").show() \n"
   ]
  },
  {
   "cell_type": "code",
   "execution_count": 0,
   "metadata": {
    "application/vnd.databricks.v1+cell": {
     "cellMetadata": {},
     "inputWidgets": {},
     "nuid": "1380ccab-4685-42bf-8c67-258bafe1e39a",
     "showTitle": false,
     "tableResultSettingsMap": {},
     "title": ""
    }
   },
   "outputs": [],
   "source": []
  }
 ],
 "metadata": {
  "application/vnd.databricks.v1+notebook": {
   "computePreferences": null,
   "dashboards": [],
   "environmentMetadata": {
    "base_environment": "",
    "environment_version": "2"
   },
   "inputWidgetPreferences": null,
   "language": "python",
   "notebookMetadata": {
    "pythonIndentUnit": 4
   },
   "notebookName": "Basic Operation(PySpark)",
   "widgets": {}
  },
  "language_info": {
   "name": "python"
  }
 },
 "nbformat": 4,
 "nbformat_minor": 0
}